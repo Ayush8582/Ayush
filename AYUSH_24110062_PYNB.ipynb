{
 "cells": [
  {
   "cell_type": "markdown",
   "id": "b78ab8dc-a83b-4c65-9162-d0a0b614042a",
   "metadata": {},
   "source": [
    "List Operations and Basic Statistics:"
   ]
  },
  {
   "cell_type": "code",
   "execution_count": 3,
   "id": "9cbfec3d-da61-487c-bf41-b5abda3e2661",
   "metadata": {},
   "outputs": [
    {
     "name": "stdout",
     "output_type": "stream",
     "text": [
      "110\n",
      "654729075\n",
      "10.5 10.5 5.766281297335398\n"
     ]
    }
   ],
   "source": [
    "import numpy as np\n",
    "l = []\n",
    "sum = 0\n",
    "prod = 1\n",
    "for i in range(1, 21):\n",
    "    l.append(i)\n",
    "\n",
    "for i in l:\n",
    "    if i%2==0:\n",
    "        sum+=i\n",
    "    else:\n",
    "        prod*=i\n",
    "print(sum)\n",
    "print(prod)\n",
    "mean = np.mean(l)\n",
    "median = np.median(l)\n",
    "std = np.std(l)\n",
    "print(mean, median, std)"
   ]
  },
  {
   "cell_type": "markdown",
   "id": "0dc7346f-a478-4510-b59c-6a3e5e236b66",
   "metadata": {},
   "source": [
    "Mutable vs. Immutable Data Types\n"
   ]
  },
  {
   "cell_type": "markdown",
   "id": "e9062806-07aa-40f1-9f79-7f2c4729ca14",
   "metadata": {},
   "source": [
    "Mutable object is where we can change values and immutable object is where we can't change the values.  Examples of mutable is list and dictionaries and immutable is tuples."
   ]
  },
  {
   "cell_type": "markdown",
   "id": "e9067ae7-d6bd-4c02-b084-b4e42f21b310",
   "metadata": {},
   "source": [
    "List Manipulation"
   ]
  },
  {
   "cell_type": "code",
   "execution_count": 7,
   "id": "42722074-3e3e-4eab-aa5d-8e282e47cdda",
   "metadata": {},
   "outputs": [
    {
     "name": "stdout",
     "output_type": "stream",
     "text": [
      "[13, 11, 9, 6, 5, 3]\n",
      "mean : 7.833333333333333\n",
      "median : 7.5\n"
     ]
    }
   ],
   "source": [
    "import numpy as np\n",
    "l = [3, 5, 7, 9, 11, 13]\n",
    "l.insert(3, 6) \n",
    "l.remove(7)\n",
    "l.reverse() \n",
    "mean = np.mean(l)\n",
    "median = np.median(l)\n",
    "print(l)\n",
    "print(f'mean : {mean}')\n",
    "print(f'median : {median}')"
   ]
  },
  {
   "cell_type": "markdown",
   "id": "1d9c1bad-3d15-4509-bcf7-fc3e589b8099",
   "metadata": {},
   "source": [
    "Merging Dictionaries"
   ]
  },
  {
   "cell_type": "code",
   "execution_count": 16,
   "id": "19bc81e4-74b9-40e6-89ee-6b43b98bcbde",
   "metadata": {},
   "outputs": [
    {
     "name": "stdout",
     "output_type": "stream",
     "text": [
      "{'a': 10, 'b': 25, 'c': 15}\n"
     ]
    }
   ],
   "source": [
    "dict1 = {'a': 10, 'b': 20}\n",
    "dict2 = {'b': 5, 'c': 15}\n",
    "output = {key: dict1.get(key, 0) + dict2.get(key, 0) for key in dict1 | dict2}\n",
    "print(output)"
   ]
  },
  {
   "cell_type": "markdown",
   "id": "5b76bcb5-462a-4915-8bb6-efc9b33220fe",
   "metadata": {},
   "source": [
    "Remove Duplicates:"
   ]
  },
  {
   "cell_type": "code",
   "execution_count": 2,
   "id": "c17574e0-6dd8-4ac9-8cbb-dd501798d681",
   "metadata": {},
   "outputs": [
    {
     "name": "stdout",
     "output_type": "stream",
     "text": [
      "[1, 2, 4, 5, 8, 9]\n",
      "4.833333333333333\n",
      "4.5\n"
     ]
    }
   ],
   "source": [
    "import numpy as np\n",
    "l = [1, 2, 4, 1, 5, 2 , 4, 5, 8, 9]\n",
    "\n",
    "unique_list = list(dict.fromkeys(l))\n",
    "mean = np.mean(unique_list)\n",
    "median = np.median(unique_list)\n",
    "\n",
    "print(unique_list)\n",
    "print(mean)\n",
    "print(median)"
   ]
  },
  {
   "cell_type": "markdown",
   "id": "f71b53bf-ab6f-4657-9328-db36c3ac4a11",
   "metadata": {},
   "source": [
    "Sorting Dictionaries"
   ]
  },
  {
   "cell_type": "code",
   "execution_count": 22,
   "id": "3a8ed135-e2e8-4225-86b3-b81863e15ea5",
   "metadata": {},
   "outputs": [
    {
     "name": "stdout",
     "output_type": "stream",
     "text": [
      "[{'name': 'Bob', 'age': 22}, {'name': 'Alice', 'age': 25}]\n"
     ]
    }
   ],
   "source": [
    "data = [{'name': 'Alice', 'age': 25}, {'name': 'Bob', 'age': 22}]\n",
    "\n",
    "sorted_data = sorted(data, key=lambda x: x['age'])\n",
    "print(sorted_data)"
   ]
  },
  {
   "cell_type": "markdown",
   "id": "d04e9ffd-5dd4-46b4-a750-72349abfae2a",
   "metadata": {},
   "source": [
    "Anagram Finder"
   ]
  },
  {
   "cell_type": "code",
   "execution_count": 42,
   "id": "305d8355-f98a-432b-8b57-a87d4a6cd861",
   "metadata": {},
   "outputs": [
    {
     "name": "stdin",
     "output_type": "stream",
     "text": [
      "Enter the word of which you want to find anagram:  listen\n",
      "Enter the list of words:  [\"enlist\", \"google\", \"inlets\", \"banana\"]\n"
     ]
    },
    {
     "name": "stdout",
     "output_type": "stream",
     "text": [
      "['enlist', 'inlets']\n"
     ]
    }
   ],
   "source": [
    "import json\n",
    "word= input(\"Enter the word of which you want to find anagram: \")\n",
    "words = json.loads(input(\"Enter the list of words: \"))\n",
    "def anagram(word, words):\n",
    "    return [w for w in words if sorted(w.lower()) == sorted(word.lower())] \n",
    "print(anagram(word, words))"
   ]
  },
  {
   "cell_type": "markdown",
   "id": "e74572bb-2d14-4378-9055-9e39a4f0addf",
   "metadata": {},
   "source": [
    "Normalization"
   ]
  },
  {
   "cell_type": "code",
   "execution_count": 44,
   "id": "701e5358-1f42-4ea0-8fc4-f6d8baac3fd9",
   "metadata": {},
   "outputs": [
    {
     "name": "stdout",
     "output_type": "stream",
     "text": [
      "[0.43157894736842106, 0.631578947368421, 0.2, 0.8, 0.8631578947368421, 0.0, 1.0, 0.05263157894736842, 0.8421052631578947]\n"
     ]
    }
   ],
   "source": [
    "l = [45, 64, 23, 80, 86,  4, 99,  9, 84]\n",
    "normalized_l = [(i-min(l))/(max(l)-min(l)) for i in l]\n",
    "print(normalized_l)"
   ]
  },
  {
   "cell_type": "markdown",
   "id": "c76084ee-8f41-4bf9-8f4e-dd95a6da85b8",
   "metadata": {},
   "source": [
    "Even or Odd:"
   ]
  },
  {
   "cell_type": "code",
   "execution_count": 3,
   "id": "18f9f0fd-8347-4d9d-8f36-78238f380629",
   "metadata": {},
   "outputs": [
    {
     "name": "stdin",
     "output_type": "stream",
     "text": [
      "Enter the number:  98785216542\n"
     ]
    },
    {
     "name": "stdout",
     "output_type": "stream",
     "text": [
      "Even\n"
     ]
    }
   ],
   "source": [
    "n = int(input(\"Enter the number: \"))\n",
    "if n>=0:\n",
    "    if n%2 ==0 :\n",
    "        print(\"Even\")\n",
    "    else:\n",
    "        print(\"Odd\")\n",
    "else:\n",
    "    print(\"Even or odd is not defined for -ve numbers.\")"
   ]
  },
  {
   "cell_type": "markdown",
   "id": "121d0765-b67a-492f-9c78-23db9a20ddac",
   "metadata": {},
   "source": [
    "Grade Calculator"
   ]
  },
  {
   "cell_type": "code",
   "execution_count": 4,
   "id": "d23c4cb2-1df1-4f2d-8b99-07ac3b3d9a7a",
   "metadata": {},
   "outputs": [
    {
     "name": "stdin",
     "output_type": "stream",
     "text": [
      "Enter your score:  67\n"
     ]
    },
    {
     "name": "stdout",
     "output_type": "stream",
     "text": [
      "D\n"
     ]
    }
   ],
   "source": [
    "n = int(input(\"Enter your score: \"))\n",
    "if n>90:\n",
    "    print(\"A\")\n",
    "elif n>80:\n",
    "    print(\"B\")\n",
    "elif n>70:\n",
    "    print(\"C\")\n",
    "elif n>60:\n",
    "    print(\"D\")\n",
    "else:\n",
    "    print(\"F\")"
   ]
  },
  {
   "cell_type": "markdown",
   "id": "b65ccc0f-08a0-4f85-884f-5d2722f3edd0",
   "metadata": {},
   "source": [
    "Leap Year Checker"
   ]
  },
  {
   "cell_type": "code",
   "execution_count": 47,
   "id": "9a36a14d-a5a2-4e15-ab29-4134ad4e4a43",
   "metadata": {},
   "outputs": [
    {
     "name": "stdin",
     "output_type": "stream",
     "text": [
      "Enter year:  1947\n"
     ]
    },
    {
     "name": "stdout",
     "output_type": "stream",
     "text": [
      "Not a leap year\n"
     ]
    }
   ],
   "source": [
    "n = int(input(\"Enter year: \"))\n",
    "if (n % 400 == 0) or (n % 4 == 0 and n % 100 != 0):\n",
    "    print(\"Leap year\")\n",
    "else:\n",
    "    print(\"Not a leap year\")"
   ]
  }
 ],
 "metadata": {
  "kernelspec": {
   "display_name": "Python 3 (ipykernel)",
   "language": "python",
   "name": "python3"
  },
  "language_info": {
   "codemirror_mode": {
    "name": "ipython",
    "version": 3
   },
   "file_extension": ".py",
   "mimetype": "text/x-python",
   "name": "python",
   "nbconvert_exporter": "python",
   "pygments_lexer": "ipython3",
   "version": "3.12.5"
  }
 },
 "nbformat": 4,
 "nbformat_minor": 5
}
